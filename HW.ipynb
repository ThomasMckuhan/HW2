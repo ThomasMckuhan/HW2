{
  "nbformat": 4,
  "nbformat_minor": 0,
  "metadata": {
    "colab": {
      "name": "HW",
      "provenance": [],
      "collapsed_sections": []
    },
    "kernelspec": {
      "name": "python3",
      "display_name": "Python 3"
    },
    "language_info": {
      "name": "python"
    }
  },
  "cells": [
    {
      "cell_type": "markdown",
      "metadata": {
        "id": "w50UeYPR65aF"
      },
      "source": [
        "#**Investing Goal**#\n",
        "###Factors in Investment###\n",
        "* Interest rate \n",
        "* Years\n",
        "* Principle \n",
        "\n",
        "These components of the formula will give the user the future value of their investment. "
      ]
    },
    {
      "cell_type": "code",
      "metadata": {
        "id": "VnUgALLt56rh",
        "colab": {
          "base_uri": "https://localhost:8080/"
        },
        "outputId": "00c2671f-ecba-4146-d528-53e134f425c9"
      },
      "source": [
        "interest_rate = .05\n",
        "years = 10\n",
        "principle = 100\n",
        "output = principle*(1+interest_rate)**years\n",
        "print(f'The output is {output}')"
      ],
      "execution_count": null,
      "outputs": [
        {
          "output_type": "stream",
          "name": "stdout",
          "text": [
            "The output is 162.8894626777442\n"
          ]
        }
      ]
    },
    {
      "cell_type": "markdown",
      "metadata": {
        "id": "Ljh6TgkM8DT6"
      },
      "source": [
        "#**Present Value**# \n",
        "Factors to find this value: \n",
        "* Future value \n",
        "* Interest rate \n",
        "* Number of years you're investing "
      ]
    },
    {
      "cell_type": "code",
      "metadata": {
        "id": "ErU80Ni65yqr",
        "colab": {
          "base_uri": "https://localhost:8080/"
        },
        "outputId": "779bf729-2868-426a-b72d-a3258abffdaf"
      },
      "source": [
        "fv = float(input(\"What is your target goal\"))\n",
        "num_years = float(input(\"How many years will you invest\"))\n",
        "interest_rate = float(input(\"what will the interest rate be?\"))\n",
        "\n",
        "present_value = fv/(1+interest_rate)**num_years\n",
        "print(\"The present value is \", present_value)"
      ],
      "execution_count": 8,
      "outputs": [
        {
          "output_type": "stream",
          "name": "stdout",
          "text": [
            "What is your target goal1000\n",
            "How many years will you invest20\n",
            "what will the interest rate be?7\n",
            "The present value is  8.673617379884035e-16\n"
          ]
        }
      ]
    }
  ]
}